{
 "cells": [
  {
   "cell_type": "code",
   "execution_count": 2,
   "id": "6ad2447c",
   "metadata": {},
   "outputs": [],
   "source": [
    "name = \"Enrique\""
   ]
  },
  {
   "cell_type": "code",
   "execution_count": 3,
   "id": "2ccbb703",
   "metadata": {},
   "outputs": [
    {
     "name": "stdout",
     "output_type": "stream",
     "text": [
      "Hi! my name is Enrique and this is a test jupiter notebook on git\n"
     ]
    }
   ],
   "source": [
    "print(f\"Hi! my name is {name} and this is a test jupiter notebook on git\")"
   ]
  }
 ],
 "metadata": {
  "kernelspec": {
   "display_name": "Python 3 (ipykernel)",
   "language": "python",
   "name": "python3"
  },
  "language_info": {
   "codemirror_mode": {
    "name": "ipython",
    "version": 3
   },
   "file_extension": ".py",
   "mimetype": "text/x-python",
   "name": "python",
   "nbconvert_exporter": "python",
   "pygments_lexer": "ipython3",
   "version": "3.9.7"
  }
 },
 "nbformat": 4,
 "nbformat_minor": 5
}
